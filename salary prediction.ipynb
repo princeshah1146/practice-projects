{
 "cells": [
  {
   "cell_type": "code",
   "execution_count": 1,
   "id": "acd034f9",
   "metadata": {},
   "outputs": [],
   "source": [
    "import numpy as np\n",
    "import pandas as pd\n",
    "import matplotlib.pyplot as plt\n",
    "%matplotlib inline\n",
    "import pickle\n",
    "import seaborn as sns\n",
    "from sklearn.linear_model import LinearRegression\n",
    "from sklearn.preprocessing import StandardScaler\n",
    "from sklearn.model_selection import train_test_split\n",
    "\n",
    "import warnings\n",
    "warnings.filterwarnings('ignore')"
   ]
  },
  {
   "cell_type": "code",
   "execution_count": 2,
   "id": "60c3dd3e",
   "metadata": {},
   "outputs": [
    {
     "data": {
      "text/html": [
       "<div>\n",
       "<style scoped>\n",
       "    .dataframe tbody tr th:only-of-type {\n",
       "        vertical-align: middle;\n",
       "    }\n",
       "\n",
       "    .dataframe tbody tr th {\n",
       "        vertical-align: top;\n",
       "    }\n",
       "\n",
       "    .dataframe thead th {\n",
       "        text-align: right;\n",
       "    }\n",
       "</style>\n",
       "<table border=\"1\" class=\"dataframe\">\n",
       "  <thead>\n",
       "    <tr style=\"text-align: right;\">\n",
       "      <th></th>\n",
       "      <th>rank</th>\n",
       "      <th>discipline</th>\n",
       "      <th>yrs.since.phd</th>\n",
       "      <th>yrs.service</th>\n",
       "      <th>sex</th>\n",
       "      <th>salary</th>\n",
       "    </tr>\n",
       "  </thead>\n",
       "  <tbody>\n",
       "    <tr>\n",
       "      <th>0</th>\n",
       "      <td>Prof</td>\n",
       "      <td>B</td>\n",
       "      <td>19</td>\n",
       "      <td>18</td>\n",
       "      <td>Male</td>\n",
       "      <td>139750</td>\n",
       "    </tr>\n",
       "    <tr>\n",
       "      <th>1</th>\n",
       "      <td>Prof</td>\n",
       "      <td>B</td>\n",
       "      <td>20</td>\n",
       "      <td>16</td>\n",
       "      <td>Male</td>\n",
       "      <td>173200</td>\n",
       "    </tr>\n",
       "    <tr>\n",
       "      <th>2</th>\n",
       "      <td>AsstProf</td>\n",
       "      <td>B</td>\n",
       "      <td>4</td>\n",
       "      <td>3</td>\n",
       "      <td>Male</td>\n",
       "      <td>79750</td>\n",
       "    </tr>\n",
       "    <tr>\n",
       "      <th>3</th>\n",
       "      <td>Prof</td>\n",
       "      <td>B</td>\n",
       "      <td>45</td>\n",
       "      <td>39</td>\n",
       "      <td>Male</td>\n",
       "      <td>115000</td>\n",
       "    </tr>\n",
       "    <tr>\n",
       "      <th>4</th>\n",
       "      <td>Prof</td>\n",
       "      <td>B</td>\n",
       "      <td>40</td>\n",
       "      <td>41</td>\n",
       "      <td>Male</td>\n",
       "      <td>141500</td>\n",
       "    </tr>\n",
       "  </tbody>\n",
       "</table>\n",
       "</div>"
      ],
      "text/plain": [
       "       rank discipline  yrs.since.phd  yrs.service   sex  salary\n",
       "0      Prof          B             19           18  Male  139750\n",
       "1      Prof          B             20           16  Male  173200\n",
       "2  AsstProf          B              4            3  Male   79750\n",
       "3      Prof          B             45           39  Male  115000\n",
       "4      Prof          B             40           41  Male  141500"
      ]
     },
     "execution_count": 2,
     "metadata": {},
     "output_type": "execute_result"
    }
   ],
   "source": [
    "df=pd.read_csv(\"https://raw.githubusercontent.com/dsrscientist/dataset3/main/Salaries.csv\")\n",
    "df.head()"
   ]
  },
  {
   "cell_type": "code",
   "execution_count": 3,
   "id": "f99fe46f",
   "metadata": {},
   "outputs": [
    {
     "data": {
      "text/plain": [
       "(397, 6)"
      ]
     },
     "execution_count": 3,
     "metadata": {},
     "output_type": "execute_result"
    }
   ],
   "source": [
    "df.shape"
   ]
  },
  {
   "cell_type": "code",
   "execution_count": 4,
   "id": "df83ebac",
   "metadata": {},
   "outputs": [
    {
     "data": {
      "text/plain": [
       "Index(['rank', 'discipline', 'yrs.since.phd', 'yrs.service', 'sex', 'salary'], dtype='object')"
      ]
     },
     "execution_count": 4,
     "metadata": {},
     "output_type": "execute_result"
    }
   ],
   "source": [
    "df.columns"
   ]
  },
  {
   "cell_type": "markdown",
   "id": "ae431b29",
   "metadata": {},
   "source": [
    "# Checking the datatypes of columns"
   ]
  },
  {
   "cell_type": "code",
   "execution_count": 5,
   "id": "3b1b1fa1",
   "metadata": {},
   "outputs": [
    {
     "data": {
      "text/plain": [
       "rank             object\n",
       "discipline       object\n",
       "yrs.since.phd     int64\n",
       "yrs.service       int64\n",
       "sex              object\n",
       "salary            int64\n",
       "dtype: object"
      ]
     },
     "execution_count": 5,
     "metadata": {},
     "output_type": "execute_result"
    }
   ],
   "source": [
    "df.dtypes"
   ]
  },
  {
   "cell_type": "markdown",
   "id": "ee380e96",
   "metadata": {},
   "source": [
    "# checking for the null values of columns"
   ]
  },
  {
   "cell_type": "code",
   "execution_count": 6,
   "id": "3b663341",
   "metadata": {},
   "outputs": [
    {
     "data": {
      "text/plain": [
       "rank             0\n",
       "discipline       0\n",
       "yrs.since.phd    0\n",
       "yrs.service      0\n",
       "sex              0\n",
       "salary           0\n",
       "dtype: int64"
      ]
     },
     "execution_count": 6,
     "metadata": {},
     "output_type": "execute_result"
    }
   ],
   "source": [
    "df.isnull().sum()"
   ]
  },
  {
   "cell_type": "code",
   "execution_count": 7,
   "id": "28f9202f",
   "metadata": {},
   "outputs": [
    {
     "data": {
      "text/plain": [
       "array([139750, 173200,  79750, 115000, 141500,  97000, 175000, 147765,\n",
       "       119250, 129000, 119800,  79800,  77700,  78000, 104800, 117150,\n",
       "       101000, 103450, 124750, 137000,  89565, 102580,  93904, 113068,\n",
       "        74830, 106294, 134885,  82379,  77000, 118223, 132261,  79916,\n",
       "       117256,  80225, 155750,  86373, 125196, 100938, 146500,  93418,\n",
       "       101299, 231545,  94384, 114778,  98193, 151768, 140096,  70768,\n",
       "       126621, 108875,  74692, 106639, 103760,  83900, 117704,  90215,\n",
       "       100135,  75044,  90304,  75243, 109785, 103613,  68404, 100522,\n",
       "        99418, 111512,  91412, 126320, 146856, 100131,  92391, 113398,\n",
       "        73266, 150480, 193000,  86100,  84240, 150743, 135585, 144640,\n",
       "        88825, 122960, 132825, 152708,  88400, 172272, 107008,  97032,\n",
       "       105128, 105631, 166024, 123683,  84000,  95611, 129676, 102235,\n",
       "       106689, 133217, 126933, 153303, 127512,  83850, 113543,  82099,\n",
       "        82600,  81500, 131205, 112429,  82100,  72500, 104279, 105000,\n",
       "       120806, 148500, 117515,  73500, 115313, 124309,  97262,  62884,\n",
       "        96614,  78162, 155500, 113278,  73000,  83001,  76840,  77500,\n",
       "       168635, 136000, 108262, 105668,  73877, 152664, 100102, 106608,\n",
       "        89942, 112696, 119015,  92000, 156938, 144651,  95079, 128148,\n",
       "       111168, 103994, 118971, 113341,  88000,  95408, 137167,  89516,\n",
       "       176500,  98510,  88795, 105890, 167284, 130664, 101210, 181257,\n",
       "        91227, 151575,  93164, 134185, 111751,  95436, 100944, 147349,\n",
       "       142467, 141136, 100000, 150000, 134000, 103750, 107500, 106300,\n",
       "       153750, 180000, 133700, 122100,  86250,  90000, 113600,  92700,\n",
       "       189409, 114500, 119700, 160400, 152500, 165000,  96545, 162200,\n",
       "       120000,  91300, 163200,  91000, 111350, 128400, 126200, 118700,\n",
       "       145350, 146000, 105350, 109650, 119500, 170000, 145200, 107150,\n",
       "       129600,  87800, 122400,  63900,  70000,  88175, 133900,  73300,\n",
       "       148750, 117555,  69700,  81700, 114000,  63100,  77202,  96200,\n",
       "        69200, 122875, 102600, 108200,  84273,  90450,  91100, 101100,\n",
       "       128800, 204000, 109000, 102000, 132000, 116450,  83000, 140300,\n",
       "        74000,  73800,  92550,  88600, 107550, 121200, 126000,  99000,\n",
       "       134800, 143940, 104350,  89650, 103700, 143250, 194800,  78500,\n",
       "        93000, 107200, 107100, 100600, 136500, 103600,  57800, 155865,\n",
       "        88650,  81800, 115800,  85000, 150500, 174500, 168500, 183800,\n",
       "       107300,  97150, 126300, 148800,  72300,  70700, 127100, 170500,\n",
       "       105260, 144050,  74500, 122500, 166800,  92050, 108100,  94350,\n",
       "       100351, 146800,  84716,  71065,  67559, 134550, 135027, 104428,\n",
       "        95642, 126431, 161101, 162221,  84500, 124714, 151650,  99247,\n",
       "       134778, 192253, 116518, 105450, 145098, 104542, 151445,  98053,\n",
       "       145000, 128464, 137317, 106231, 124312, 114596, 162150, 150376,\n",
       "       107986, 142023, 128250,  80139, 144309, 186960,  93519, 142500,\n",
       "       138000,  83600, 145028,  88709, 107309, 109954,  78785, 121946,\n",
       "       109646, 138771,  81285, 205500, 101036, 115435, 108413, 131950,\n",
       "       134690,  78182, 110515, 109707, 136660, 103275, 103649,  74856,\n",
       "        77081, 150680, 104121,  75996, 172505,  86895, 125192, 114330,\n",
       "       139219, 109305, 119450, 186023, 166605, 151292, 103106, 150564,\n",
       "       101738,  95329,  81035], dtype=int64)"
      ]
     },
     "execution_count": 7,
     "metadata": {},
     "output_type": "execute_result"
    }
   ],
   "source": [
    "df['salary'].unique()"
   ]
  },
  {
   "cell_type": "code",
   "execution_count": 8,
   "id": "5f7d5170",
   "metadata": {},
   "outputs": [
    {
     "data": {
      "text/plain": [
       "371"
      ]
     },
     "execution_count": 8,
     "metadata": {},
     "output_type": "execute_result"
    }
   ],
   "source": [
    "df['salary'].nunique()"
   ]
  },
  {
   "cell_type": "code",
   "execution_count": 9,
   "id": "8934cda6",
   "metadata": {},
   "outputs": [
    {
     "data": {
      "text/plain": [
       "397"
      ]
     },
     "execution_count": 9,
     "metadata": {},
     "output_type": "execute_result"
    }
   ],
   "source": [
    "df.shape[0]"
   ]
  },
  {
   "cell_type": "code",
   "execution_count": 10,
   "id": "44feef06",
   "metadata": {},
   "outputs": [
    {
     "data": {
      "text/plain": [
       "array(['Male', 'Female'], dtype=object)"
      ]
     },
     "execution_count": 10,
     "metadata": {},
     "output_type": "execute_result"
    }
   ],
   "source": [
    "df['sex'].unique()"
   ]
  },
  {
   "cell_type": "code",
   "execution_count": 11,
   "id": "24311c79",
   "metadata": {},
   "outputs": [
    {
     "data": {
      "text/plain": [
       "Male      358\n",
       "Female     39\n",
       "Name: sex, dtype: int64"
      ]
     },
     "execution_count": 11,
     "metadata": {},
     "output_type": "execute_result"
    }
   ],
   "source": [
    "df['sex'].value_counts()"
   ]
  },
  {
   "cell_type": "code",
   "execution_count": 12,
   "id": "75e4af2a",
   "metadata": {},
   "outputs": [
    {
     "data": {
      "image/png": "[encoded data removed]",
      "text/plain": [
       "<Figure size 432x288 with 1 Axes>"
      ]
     },
     "metadata": {
      "needs_background": "light"
     },
     "output_type": "display_data"
    }
   ],
   "source": [
    "sns.countplot(x='sex',data=df)\n",
    "plt.show()"
   ]
  },
  {
   "cell_type": "code",
   "execution_count": 13,
   "id": "d7c64aea",
   "metadata": {},
   "outputs": [
    {
     "data": {
      "text/plain": [
       "array(['B', 'A'], dtype=object)"
      ]
     },
     "execution_count": 13,
     "metadata": {},
     "output_type": "execute_result"
    }
   ],
   "source": [
    "df['discipline'].unique()"
   ]
  },
  {
   "cell_type": "code",
   "execution_count": 14,
   "id": "e73a81d3",
   "metadata": {},
   "outputs": [
    {
     "data": {
      "image/png": "[encoded data removed]",
      "text/plain": [
       "<Figure size 432x288 with 1 Axes>"
      ]
     },
     "metadata": {
      "needs_background": "light"
     },
     "output_type": "display_data"
    }
   ],
   "source": [
    "sns.countplot(x='discipline',data=df)\n",
    "plt.show()"
   ]
  },
  {
   "cell_type": "code",
   "execution_count": 15,
   "id": "ef6441d9",
   "metadata": {},
   "outputs": [
    {
     "data": {
      "text/plain": [
       "Prof         266\n",
       "AsstProf      67\n",
       "AssocProf     64\n",
       "Name: rank, dtype: int64"
      ]
     },
     "execution_count": 15,
     "metadata": {},
     "output_type": "execute_result"
    }
   ],
   "source": [
    "df['rank'].value_counts()"
   ]
  },
  {
   "cell_type": "code",
   "execution_count": 16,
   "id": "b9c59298",
   "metadata": {},
   "outputs": [
    {
     "data": {
      "text/plain": [
       "array(['Prof', 'AsstProf', 'AssocProf'], dtype=object)"
      ]
     },
     "execution_count": 16,
     "metadata": {},
     "output_type": "execute_result"
    }
   ],
   "source": [
    "df['rank'].unique()"
   ]
  },
  {
   "cell_type": "code",
   "execution_count": 17,
   "id": "08384581",
   "metadata": {},
   "outputs": [
    {
     "data": {
      "image/png": "[encoded data removed]",
      "text/plain": [
       "<Figure size 432x288 with 1 Axes>"
      ]
     },
     "metadata": {
      "needs_background": "light"
     },
     "output_type": "display_data"
    }
   ],
   "source": [
    "sns.countplot(x='rank',data=df)\n",
    "plt.show()"
   ]
  },
  {
   "cell_type": "code",
   "execution_count": 18,
   "id": "c4cae7e8",
   "metadata": {},
   "outputs": [
    {
     "data": {
      "text/plain": [
       "array([19, 20,  4, 45, 40,  6, 30, 21, 18, 12,  7,  1,  2, 38, 37, 39, 31,\n",
       "       36, 34, 24, 13, 35,  5, 11, 22, 41,  9, 23, 25, 28, 16, 14, 10,  8,\n",
       "        3, 33, 17, 29, 26, 43, 15, 42, 32, 54, 56, 27, 48, 46, 47, 52, 51,\n",
       "       49, 44], dtype=int64)"
      ]
     },
     "execution_count": 18,
     "metadata": {},
     "output_type": "execute_result"
    }
   ],
   "source": [
    "df['yrs.since.phd'].unique()"
   ]
  },
  {
   "cell_type": "code",
   "execution_count": 19,
   "id": "26a77720",
   "metadata": {},
   "outputs": [
    {
     "data": {
      "text/plain": [
       "53"
      ]
     },
     "execution_count": 19,
     "metadata": {},
     "output_type": "execute_result"
    }
   ],
   "source": [
    "df['yrs.since.phd'].nunique()"
   ]
  },
  {
   "cell_type": "code",
   "execution_count": 20,
   "id": "3da22a25",
   "metadata": {},
   "outputs": [
    {
     "data": {
      "text/plain": [
       "array([18, 16,  3, 39, 41,  6, 23, 45, 20,  8,  2,  1,  0, 34, 36, 26, 31,\n",
       "       30, 19,  4,  9, 21, 27, 38, 15, 28, 25, 11,  5, 12, 17, 14, 37,  7,\n",
       "       10, 29, 32, 22, 49, 57, 24, 53, 33, 40, 35, 43, 44, 48, 46, 51, 13,\n",
       "       60], dtype=int64)"
      ]
     },
     "execution_count": 20,
     "metadata": {},
     "output_type": "execute_result"
    }
   ],
   "source": [
    "df['yrs.service'].unique()"
   ]
  },
  {
   "cell_type": "code",
   "execution_count": 21,
   "id": "7eec6732",
   "metadata": {},
   "outputs": [
    {
     "data": {
      "text/plain": [
       "52"
      ]
     },
     "execution_count": 21,
     "metadata": {},
     "output_type": "execute_result"
    }
   ],
   "source": [
    "df['yrs.service'].nunique()"
   ]
  },
  {
   "cell_type": "markdown",
   "id": "299dfacc",
   "metadata": {},
   "source": [
    "# checking the distribution of the continuous value of the integer type columns"
   ]
  },
  {
   "cell_type": "code",
   "execution_count": 22,
   "id": "2a4d282f",
   "metadata": {},
   "outputs": [
    {
     "data": {
      "text/plain": [
       "<seaborn.axisgrid.FacetGrid at 0x1e7efa32280>"
      ]
     },
     "execution_count": 22,
     "metadata": {},
     "output_type": "execute_result"
    },
    {
     "data": {
      "image/png": "[encoded data removed]",
      "text/plain": [
       "<Figure size 360x360 with 1 Axes>"
      ]
     },
     "metadata": {
      "needs_background": "light"
     },
     "output_type": "display_data"
    }
   ],
   "source": [
    "sns.displot(df['salary'],kde=True)"
   ]
  },
  {
   "cell_type": "code",
   "execution_count": 23,
   "id": "7ffdc74c",
   "metadata": {},
   "outputs": [
    {
     "data": {
      "text/plain": [
       "<seaborn.axisgrid.FacetGrid at 0x1e7efaf3b20>"
      ]
     },
     "execution_count": 23,
     "metadata": {},
     "output_type": "execute_result"
    },
    {
     "data": {
      "image/png": "[encoded data removed]",
      "text/plain": [
       "<Figure size 360x360 with 1 Axes>"
      ]
     },
     "metadata": {
      "needs_background": "light"
     },
     "output_type": "display_data"
    }
   ],
   "source": [
    "sns.displot(df['yrs.since.phd'],kde=True)"
   ]
  },
  {
   "cell_type": "code",
   "execution_count": 24,
   "id": "b84a6ea3",
   "metadata": {},
   "outputs": [
    {
     "data": {
      "text/plain": [
       "<seaborn.axisgrid.FacetGrid at 0x1e7efbd80d0>"
      ]
     },
     "execution_count": 24,
     "metadata": {},
     "output_type": "execute_result"
    },
    {
     "data": {
      "image/png": "[encoded data removed]",
      "text/plain": [
       "<Figure size 360x360 with 1 Axes>"
      ]
     },
     "metadata": {
      "needs_background": "light"
     },
     "output_type": "display_data"
    }
   ],
   "source": [
    "sns.displot(df['yrs.service'],kde=True)"
   ]
  },
  {
   "cell_type": "markdown",
   "id": "00704dbb",
   "metadata": {},
   "source": [
    "# encoding of dataframe"
   ]
  },
  {
   "cell_type": "code",
   "execution_count": 25,
   "id": "786e63ac",
   "metadata": {},
   "outputs": [],
   "source": [
    "from sklearn.preprocessing import OrdinalEncoder"
   ]
  },
  {
   "cell_type": "code",
   "execution_count": 26,
   "id": "85d55c33",
   "metadata": {},
   "outputs": [],
   "source": [
    "enc=OrdinalEncoder(categories=[['AsstProf','AssocProf','Prof']])"
   ]
  },
  {
   "cell_type": "code",
   "execution_count": 27,
   "id": "75e1000d",
   "metadata": {},
   "outputs": [],
   "source": [
    "df1=enc.fit_transform(df[['rank']])"
   ]
  },
  {
   "cell_type": "code",
   "execution_count": 28,
   "id": "27ffb75a",
   "metadata": {},
   "outputs": [
    {
     "data": {
      "text/plain": [
       "array([[2.],\n",
       "       [2.],\n",
       "       [0.],\n",
       "       [2.],\n",
       "       [2.],\n",
       "       [1.],\n",
       "       [2.],\n",
       "       [2.],\n",
       "       [2.],\n",
       "       [2.],\n",
       "       [1.],\n",
       "       [0.],\n",
       "       [0.],\n",
       "       [0.],\n",
       "       [2.],\n",
       "       [2.],\n",
       "       [2.],\n",
       "       [2.],\n",
       "       [2.],\n",
       "       [2.],\n",
       "       [2.],\n",
       "       [2.],\n",
       "       [2.],\n",
       "       [2.],\n",
       "       [1.],\n",
       "       [2.],\n",
       "       [2.],\n",
       "       [0.],\n",
       "       [0.],\n",
       "       [2.],\n",
       "       [2.],\n",
       "       [0.],\n",
       "       [2.],\n",
       "       [0.],\n",
       "       [0.],\n",
       "       [0.],\n",
       "       [2.],\n",
       "       [0.],\n",
       "       [2.],\n",
       "       [1.],\n",
       "       [2.],\n",
       "       [1.],\n",
       "       [2.],\n",
       "       [2.],\n",
       "       [2.],\n",
       "       [2.],\n",
       "       [2.],\n",
       "       [2.],\n",
       "       [2.],\n",
       "       [0.],\n",
       "       [2.],\n",
       "       [2.],\n",
       "       [0.],\n",
       "       [2.],\n",
       "       [1.],\n",
       "       [1.],\n",
       "       [2.],\n",
       "       [1.],\n",
       "       [1.],\n",
       "       [0.],\n",
       "       [1.],\n",
       "       [0.],\n",
       "       [2.],\n",
       "       [1.],\n",
       "       [0.],\n",
       "       [1.],\n",
       "       [2.],\n",
       "       [2.],\n",
       "       [2.],\n",
       "       [2.],\n",
       "       [2.],\n",
       "       [2.],\n",
       "       [2.],\n",
       "       [2.],\n",
       "       [2.],\n",
       "       [0.],\n",
       "       [2.],\n",
       "       [2.],\n",
       "       [0.],\n",
       "       [0.],\n",
       "       [2.],\n",
       "       [2.],\n",
       "       [2.],\n",
       "       [0.],\n",
       "       [2.],\n",
       "       [2.],\n",
       "       [2.],\n",
       "       [0.],\n",
       "       [2.],\n",
       "       [1.],\n",
       "       [0.],\n",
       "       [1.],\n",
       "       [1.],\n",
       "       [2.],\n",
       "       [2.],\n",
       "       [0.],\n",
       "       [1.],\n",
       "       [2.],\n",
       "       [2.],\n",
       "       [2.],\n",
       "       [2.],\n",
       "       [2.],\n",
       "       [2.],\n",
       "       [2.],\n",
       "       [1.],\n",
       "       [2.],\n",
       "       [1.],\n",
       "       [1.],\n",
       "       [1.],\n",
       "       [2.],\n",
       "       [2.],\n",
       "       [1.],\n",
       "       [0.],\n",
       "       [2.],\n",
       "       [2.],\n",
       "       [2.],\n",
       "       [2.],\n",
       "       [2.],\n",
       "       [0.],\n",
       "       [0.],\n",
       "       [2.],\n",
       "       [2.],\n",
       "       [2.],\n",
       "       [1.],\n",
       "       [2.],\n",
       "       [2.],\n",
       "       [2.],\n",
       "       [0.],\n",
       "       [2.],\n",
       "       [0.],\n",
       "       [1.],\n",
       "       [2.],\n",
       "       [1.],\n",
       "       [0.],\n",
       "       [2.],\n",
       "       [2.],\n",
       "       [2.],\n",
       "       [2.],\n",
       "       [1.],\n",
       "       [2.],\n",
       "       [1.],\n",
       "       [1.],\n",
       "       [2.],\n",
       "       [0.],\n",
       "       [2.],\n",
       "       [2.],\n",
       "       [0.],\n",
       "       [2.],\n",
       "       [2.],\n",
       "       [0.],\n",
       "       [2.],\n",
       "       [0.],\n",
       "       [2.],\n",
       "       [1.],\n",
       "       [0.],\n",
       "       [2.],\n",
       "       [1.],\n",
       "       [0.],\n",
       "       [1.],\n",
       "       [2.],\n",
       "       [0.],\n",
       "       [2.],\n",
       "       [1.],\n",
       "       [0.],\n",
       "       [0.],\n",
       "       [2.],\n",
       "       [2.],\n",
       "       [2.],\n",
       "       [1.],\n",
       "       [2.],\n",
       "       [0.],\n",
       "       [2.],\n",
       "       [2.],\n",
       "       [2.],\n",
       "       [1.],\n",
       "       [2.],\n",
       "       [1.],\n",
       "       [1.],\n",
       "       [2.],\n",
       "       [0.],\n",
       "       [2.],\n",
       "       [2.],\n",
       "       [1.],\n",
       "       [2.],\n",
       "       [2.],\n",
       "       [2.],\n",
       "       [1.],\n",
       "       [2.],\n",
       "       [1.],\n",
       "       [2.],\n",
       "       [2.],\n",
       "       [2.],\n",
       "       [2.],\n",
       "       [1.],\n",
       "       [1.],\n",
       "       [1.],\n",
       "       [0.],\n",
       "       [0.],\n",
       "       [2.],\n",
       "       [2.],\n",
       "       [0.],\n",
       "       [2.],\n",
       "       [2.],\n",
       "       [2.],\n",
       "       [2.],\n",
       "       [2.],\n",
       "       [2.],\n",
       "       [2.],\n",
       "       [0.],\n",
       "       [2.],\n",
       "       [0.],\n",
       "       [2.],\n",
       "       [2.],\n",
       "       [2.],\n",
       "       [1.],\n",
       "       [2.],\n",
       "       [2.],\n",
       "       [1.],\n",
       "       [1.],\n",
       "       [2.],\n",
       "       [2.],\n",
       "       [2.],\n",
       "       [1.],\n",
       "       [2.],\n",
       "       [2.],\n",
       "       [2.],\n",
       "       [0.],\n",
       "       [1.],\n",
       "       [2.],\n",
       "       [2.],\n",
       "       [2.],\n",
       "       [1.],\n",
       "       [2.],\n",
       "       [2.],\n",
       "       [0.],\n",
       "       [2.],\n",
       "       [2.],\n",
       "       [0.],\n",
       "       [2.],\n",
       "       [2.],\n",
       "       [0.],\n",
       "       [2.],\n",
       "       [2.],\n",
       "       [2.],\n",
       "       [2.],\n",
       "       [2.],\n",
       "       [2.],\n",
       "       [2.],\n",
       "       [2.],\n",
       "       [2.],\n",
       "       [2.],\n",
       "       [2.],\n",
       "       [2.],\n",
       "       [0.],\n",
       "       [2.],\n",
       "       [1.],\n",
       "       [2.],\n",
       "       [1.],\n",
       "       [0.],\n",
       "       [2.],\n",
       "       [1.],\n",
       "       [2.],\n",
       "       [2.],\n",
       "       [2.],\n",
       "       [2.],\n",
       "       [2.],\n",
       "       [2.],\n",
       "       [2.],\n",
       "       [2.],\n",
       "       [2.],\n",
       "       [2.],\n",
       "       [2.],\n",
       "       [0.],\n",
       "       [0.],\n",
       "       [0.],\n",
       "       [2.],\n",
       "       [2.],\n",
       "       [2.],\n",
       "       [2.],\n",
       "       [2.],\n",
       "       [2.],\n",
       "       [2.],\n",
       "       [2.],\n",
       "       [2.],\n",
       "       [1.],\n",
       "       [1.],\n",
       "       [2.],\n",
       "       [0.],\n",
       "       [2.],\n",
       "       [0.],\n",
       "       [2.],\n",
       "       [2.],\n",
       "       [2.],\n",
       "       [1.],\n",
       "       [2.],\n",
       "       [2.],\n",
       "       [2.],\n",
       "       [2.],\n",
       "       [2.],\n",
       "       [1.],\n",
       "       [2.],\n",
       "       [2.],\n",
       "       [2.],\n",
       "       [2.],\n",
       "       [2.],\n",
       "       [2.],\n",
       "       [0.],\n",
       "       [2.],\n",
       "       [0.],\n",
       "       [2.],\n",
       "       [2.],\n",
       "       [2.],\n",
       "       [2.],\n",
       "       [2.],\n",
       "       [2.],\n",
       "       [0.],\n",
       "       [1.],\n",
       "       [2.],\n",
       "       [2.],\n",
       "       [2.],\n",
       "       [2.],\n",
       "       [1.],\n",
       "       [1.],\n",
       "       [2.],\n",
       "       [2.],\n",
       "       [0.],\n",
       "       [2.],\n",
       "       [2.],\n",
       "       [1.],\n",
       "       [2.],\n",
       "       [2.],\n",
       "       [2.],\n",
       "       [2.],\n",
       "       [2.],\n",
       "       [1.],\n",
       "       [2.],\n",
       "       [2.],\n",
       "       [2.],\n",
       "       [2.],\n",
       "       [2.],\n",
       "       [2.],\n",
       "       [2.],\n",
       "       [2.],\n",
       "       [2.],\n",
       "       [2.],\n",
       "       [2.],\n",
       "       [2.],\n",
       "       [2.],\n",
       "       [0.],\n",
       "       [2.],\n",
       "       [2.],\n",
       "       [2.],\n",
       "       [2.],\n",
       "       [2.],\n",
       "       [0.],\n",
       "       [2.],\n",
       "       [2.],\n",
       "       [2.],\n",
       "       [2.],\n",
       "       [0.],\n",
       "       [2.],\n",
       "       [2.],\n",
       "       [2.],\n",
       "       [1.],\n",
       "       [2.],\n",
       "       [2.],\n",
       "       [2.],\n",
       "       [1.],\n",
       "       [2.],\n",
       "       [2.],\n",
       "       [1.],\n",
       "       [2.],\n",
       "       [2.],\n",
       "       [2.],\n",
       "       [2.],\n",
       "       [2.],\n",
       "       [0.],\n",
       "       [0.],\n",
       "       [2.],\n",
       "       [1.],\n",
       "       [0.],\n",
       "       [2.],\n",
       "       [1.],\n",
       "       [2.],\n",
       "       [2.],\n",
       "       [2.],\n",
       "       [2.],\n",
       "       [2.],\n",
       "       [2.],\n",
       "       [2.],\n",
       "       [2.],\n",
       "       [2.],\n",
       "       [2.],\n",
       "       [2.],\n",
       "       [2.],\n",
       "       [2.],\n",
       "       [0.]])"
      ]
     },
     "execution_count": 28,
     "metadata": {},
     "output_type": "execute_result"
    }
   ],
   "source": [
    "df1"
   ]
  },
  {
   "cell_type": "code",
   "execution_count": 29,
   "id": "496c283e",
   "metadata": {},
   "outputs": [],
   "source": [
    "df['rank']=df1"
   ]
  },
  {
   "cell_type": "code",
   "execution_count": 30,
   "id": "fa34dc93",
   "metadata": {},
   "outputs": [
    {
     "data": {
      "text/html": [
       "<div>\n",
       "<style scoped>\n",
       "    .dataframe tbody tr th:only-of-type {\n",
       "        vertical-align: middle;\n",
       "    }\n",
       "\n",
       "    .dataframe tbody tr th {\n",
       "        vertical-align: top;\n",
       "    }\n",
       "\n",
       "    .dataframe thead th {\n",
       "        text-align: right;\n",
       "    }\n",
       "</style>\n",
       "<table border=\"1\" class=\"dataframe\">\n",
       "  <thead>\n",
       "    <tr style=\"text-align: right;\">\n",
       "      <th></th>\n",
       "      <th>rank</th>\n",
       "      <th>discipline</th>\n",
       "      <th>yrs.since.phd</th>\n",
       "      <th>yrs.service</th>\n",
       "      <th>sex</th>\n",
       "      <th>salary</th>\n",
       "    </tr>\n",
       "  </thead>\n",
       "  <tbody>\n",
       "    <tr>\n",
       "      <th>0</th>\n",
       "      <td>2.0</td>\n",
       "      <td>B</td>\n",
       "      <td>19</td>\n",
       "      <td>18</td>\n",
       "      <td>Male</td>\n",
       "      <td>139750</td>\n",
       "    </tr>\n",
       "    <tr>\n",
       "      <th>1</th>\n",
       "      <td>2.0</td>\n",
       "      <td>B</td>\n",
       "      <td>20</td>\n",
       "      <td>16</td>\n",
       "      <td>Male</td>\n",
       "      <td>173200</td>\n",
       "    </tr>\n",
       "    <tr>\n",
       "      <th>2</th>\n",
       "      <td>0.0</td>\n",
       "      <td>B</td>\n",
       "      <td>4</td>\n",
       "      <td>3</td>\n",
       "      <td>Male</td>\n",
       "      <td>79750</td>\n",
       "    </tr>\n",
       "    <tr>\n",
       "      <th>3</th>\n",
       "      <td>2.0</td>\n",
       "      <td>B</td>\n",
       "      <td>45</td>\n",
       "      <td>39</td>\n",
       "      <td>Male</td>\n",
       "      <td>115000</td>\n",
       "    </tr>\n",
       "    <tr>\n",
       "      <th>4</th>\n",
       "      <td>2.0</td>\n",
       "      <td>B</td>\n",
       "      <td>40</td>\n",
       "      <td>41</td>\n",
       "      <td>Male</td>\n",
       "      <td>141500</td>\n",
       "    </tr>\n",
       "  </tbody>\n",
       "</table>\n",
       "</div>"
      ],
      "text/plain": [
       "   rank discipline  yrs.since.phd  yrs.service   sex  salary\n",
       "0   2.0          B             19           18  Male  139750\n",
       "1   2.0          B             20           16  Male  173200\n",
       "2   0.0          B              4            3  Male   79750\n",
       "3   2.0          B             45           39  Male  115000\n",
       "4   2.0          B             40           41  Male  141500"
      ]
     },
     "execution_count": 30,
     "metadata": {},
     "output_type": "execute_result"
    }
   ],
   "source": [
    "df.head()"
   ]
  },
  {
   "cell_type": "code",
   "execution_count": 31,
   "id": "d127569b",
   "metadata": {},
   "outputs": [],
   "source": [
    "from sklearn.preprocessing import LabelEncoder"
   ]
  },
  {
   "cell_type": "code",
   "execution_count": 32,
   "id": "e0434fad",
   "metadata": {},
   "outputs": [],
   "source": [
    "lab_enc=LabelEncoder()"
   ]
  },
  {
   "cell_type": "code",
   "execution_count": 33,
   "id": "e2819571",
   "metadata": {},
   "outputs": [
    {
     "data": {
      "text/plain": [
       "0      1\n",
       "1      1\n",
       "2      1\n",
       "3      1\n",
       "4      1\n",
       "      ..\n",
       "392    0\n",
       "393    0\n",
       "394    0\n",
       "395    0\n",
       "396    0\n",
       "Length: 397, dtype: int32"
      ]
     },
     "execution_count": 33,
     "metadata": {},
     "output_type": "execute_result"
    }
   ],
   "source": [
    "df2=lab_enc.fit_transform(df['discipline'])\n",
    "pd.Series(df2)"
   ]
  },
  {
   "cell_type": "code",
   "execution_count": 34,
   "id": "ff716273",
   "metadata": {},
   "outputs": [],
   "source": [
    "df['discipline']=df2"
   ]
  },
  {
   "cell_type": "code",
   "execution_count": 35,
   "id": "108b2747",
   "metadata": {},
   "outputs": [
    {
     "data": {
      "text/html": [
       "<div>\n",
       "<style scoped>\n",
       "    .dataframe tbody tr th:only-of-type {\n",
       "        vertical-align: middle;\n",
       "    }\n",
       "\n",
       "    .dataframe tbody tr th {\n",
       "        vertical-align: top;\n",
       "    }\n",
       "\n",
       "    .dataframe thead th {\n",
       "        text-align: right;\n",
       "    }\n",
       "</style>\n",
       "<table border=\"1\" class=\"dataframe\">\n",
       "  <thead>\n",
       "    <tr style=\"text-align: right;\">\n",
       "      <th></th>\n",
       "      <th>rank</th>\n",
       "      <th>discipline</th>\n",
       "      <th>yrs.since.phd</th>\n",
       "      <th>yrs.service</th>\n",
       "      <th>sex</th>\n",
       "      <th>salary</th>\n",
       "    </tr>\n",
       "  </thead>\n",
       "  <tbody>\n",
       "    <tr>\n",
       "      <th>0</th>\n",
       "      <td>2.0</td>\n",
       "      <td>1</td>\n",
       "      <td>19</td>\n",
       "      <td>18</td>\n",
       "      <td>Male</td>\n",
       "      <td>139750</td>\n",
       "    </tr>\n",
       "    <tr>\n",
       "      <th>1</th>\n",
       "      <td>2.0</td>\n",
       "      <td>1</td>\n",
       "      <td>20</td>\n",
       "      <td>16</td>\n",
       "      <td>Male</td>\n",
       "      <td>173200</td>\n",
       "    </tr>\n",
       "    <tr>\n",
       "      <th>2</th>\n",
       "      <td>0.0</td>\n",
       "      <td>1</td>\n",
       "      <td>4</td>\n",
       "      <td>3</td>\n",
       "      <td>Male</td>\n",
       "      <td>79750</td>\n",
       "    </tr>\n",
       "    <tr>\n",
       "      <th>3</th>\n",
       "      <td>2.0</td>\n",
       "      <td>1</td>\n",
       "      <td>45</td>\n",
       "      <td>39</td>\n",
       "      <td>Male</td>\n",
       "      <td>115000</td>\n",
       "    </tr>\n",
       "    <tr>\n",
       "      <th>4</th>\n",
       "      <td>2.0</td>\n",
       "      <td>1</td>\n",
       "      <td>40</td>\n",
       "      <td>41</td>\n",
       "      <td>Male</td>\n",
       "      <td>141500</td>\n",
       "    </tr>\n",
       "  </tbody>\n",
       "</table>\n",
       "</div>"
      ],
      "text/plain": [
       "   rank  discipline  yrs.since.phd  yrs.service   sex  salary\n",
       "0   2.0           1             19           18  Male  139750\n",
       "1   2.0           1             20           16  Male  173200\n",
       "2   0.0           1              4            3  Male   79750\n",
       "3   2.0           1             45           39  Male  115000\n",
       "4   2.0           1             40           41  Male  141500"
      ]
     },
     "execution_count": 35,
     "metadata": {},
     "output_type": "execute_result"
    }
   ],
   "source": [
    "df.head()"
   ]
  },
  {
   "cell_type": "markdown",
   "id": "af443ba2",
   "metadata": {},
   "source": [
    "# Now , same coding is work to transform the sex into some numbers"
   ]
  },
  {
   "cell_type": "code",
   "execution_count": 36,
   "id": "7aebdb3e",
   "metadata": {},
   "outputs": [
    {
     "data": {
      "text/plain": [
       "0      1\n",
       "1      1\n",
       "2      1\n",
       "3      1\n",
       "4      1\n",
       "      ..\n",
       "392    1\n",
       "393    1\n",
       "394    1\n",
       "395    1\n",
       "396    1\n",
       "Length: 397, dtype: int32"
      ]
     },
     "execution_count": 36,
     "metadata": {},
     "output_type": "execute_result"
    }
   ],
   "source": [
    "df3=lab_enc.fit_transform(df['sex'])\n",
    "pd.Series(df3)"
   ]
  },
  {
   "cell_type": "code",
   "execution_count": 37,
   "id": "316c2f75",
   "metadata": {},
   "outputs": [
    {
     "data": {
      "text/html": [
       "<div>\n",
       "<style scoped>\n",
       "    .dataframe tbody tr th:only-of-type {\n",
       "        vertical-align: middle;\n",
       "    }\n",
       "\n",
       "    .dataframe tbody tr th {\n",
       "        vertical-align: top;\n",
       "    }\n",
       "\n",
       "    .dataframe thead th {\n",
       "        text-align: right;\n",
       "    }\n",
       "</style>\n",
       "<table border=\"1\" class=\"dataframe\">\n",
       "  <thead>\n",
       "    <tr style=\"text-align: right;\">\n",
       "      <th></th>\n",
       "      <th>rank</th>\n",
       "      <th>discipline</th>\n",
       "      <th>yrs.since.phd</th>\n",
       "      <th>yrs.service</th>\n",
       "      <th>sex</th>\n",
       "      <th>salary</th>\n",
       "    </tr>\n",
       "  </thead>\n",
       "  <tbody>\n",
       "    <tr>\n",
       "      <th>0</th>\n",
       "      <td>2.0</td>\n",
       "      <td>1</td>\n",
       "      <td>19</td>\n",
       "      <td>18</td>\n",
       "      <td>1</td>\n",
       "      <td>139750</td>\n",
       "    </tr>\n",
       "    <tr>\n",
       "      <th>1</th>\n",
       "      <td>2.0</td>\n",
       "      <td>1</td>\n",
       "      <td>20</td>\n",
       "      <td>16</td>\n",
       "      <td>1</td>\n",
       "      <td>173200</td>\n",
       "    </tr>\n",
       "    <tr>\n",
       "      <th>2</th>\n",
       "      <td>0.0</td>\n",
       "      <td>1</td>\n",
       "      <td>4</td>\n",
       "      <td>3</td>\n",
       "      <td>1</td>\n",
       "      <td>79750</td>\n",
       "    </tr>\n",
       "    <tr>\n",
       "      <th>3</th>\n",
       "      <td>2.0</td>\n",
       "      <td>1</td>\n",
       "      <td>45</td>\n",
       "      <td>39</td>\n",
       "      <td>1</td>\n",
       "      <td>115000</td>\n",
       "    </tr>\n",
       "    <tr>\n",
       "      <th>4</th>\n",
       "      <td>2.0</td>\n",
       "      <td>1</td>\n",
       "      <td>40</td>\n",
       "      <td>41</td>\n",
       "      <td>1</td>\n",
       "      <td>141500</td>\n",
       "    </tr>\n",
       "  </tbody>\n",
       "</table>\n",
       "</div>"
      ],
      "text/plain": [
       "   rank  discipline  yrs.since.phd  yrs.service  sex  salary\n",
       "0   2.0           1             19           18    1  139750\n",
       "1   2.0           1             20           16    1  173200\n",
       "2   0.0           1              4            3    1   79750\n",
       "3   2.0           1             45           39    1  115000\n",
       "4   2.0           1             40           41    1  141500"
      ]
     },
     "execution_count": 37,
     "metadata": {},
     "output_type": "execute_result"
    }
   ],
   "source": [
    "df['sex']=df3\n",
    "df.head()"
   ]
  },
  {
   "cell_type": "markdown",
   "id": "62543644",
   "metadata": {},
   "source": [
    "# Describe the dataset"
   ]
  },
  {
   "cell_type": "code",
   "execution_count": 38,
   "id": "ef98b16a",
   "metadata": {},
   "outputs": [
    {
     "data": {
      "text/html": [
       "<div>\n",
       "<style scoped>\n",
       "    .dataframe tbody tr th:only-of-type {\n",
       "        vertical-align: middle;\n",
       "    }\n",
       "\n",
       "    .dataframe tbody tr th {\n",
       "        vertical-align: top;\n",
       "    }\n",
       "\n",
       "    .dataframe thead th {\n",
       "        text-align: right;\n",
       "    }\n",
       "</style>\n",
       "<table border=\"1\" class=\"dataframe\">\n",
       "  <thead>\n",
       "    <tr style=\"text-align: right;\">\n",
       "      <th></th>\n",
       "      <th>rank</th>\n",
       "      <th>discipline</th>\n",
       "      <th>yrs.since.phd</th>\n",
       "      <th>yrs.service</th>\n",
       "      <th>sex</th>\n",
       "      <th>salary</th>\n",
       "    </tr>\n",
       "  </thead>\n",
       "  <tbody>\n",
       "    <tr>\n",
       "      <th>count</th>\n",
       "      <td>397.000000</td>\n",
       "      <td>397.000000</td>\n",
       "      <td>397.000000</td>\n",
       "      <td>397.000000</td>\n",
       "      <td>397.000000</td>\n",
       "      <td>397.000000</td>\n",
       "    </tr>\n",
       "    <tr>\n",
       "      <th>mean</th>\n",
       "      <td>1.501259</td>\n",
       "      <td>0.544081</td>\n",
       "      <td>22.314861</td>\n",
       "      <td>17.614610</td>\n",
       "      <td>0.901763</td>\n",
       "      <td>113706.458438</td>\n",
       "    </tr>\n",
       "    <tr>\n",
       "      <th>std</th>\n",
       "      <td>0.767472</td>\n",
       "      <td>0.498682</td>\n",
       "      <td>12.887003</td>\n",
       "      <td>13.006024</td>\n",
       "      <td>0.298010</td>\n",
       "      <td>30289.038695</td>\n",
       "    </tr>\n",
       "    <tr>\n",
       "      <th>min</th>\n",
       "      <td>0.000000</td>\n",
       "      <td>0.000000</td>\n",
       "      <td>1.000000</td>\n",
       "      <td>0.000000</td>\n",
       "      <td>0.000000</td>\n",
       "      <td>57800.000000</td>\n",
       "    </tr>\n",
       "    <tr>\n",
       "      <th>25%</th>\n",
       "      <td>1.000000</td>\n",
       "      <td>0.000000</td>\n",
       "      <td>12.000000</td>\n",
       "      <td>7.000000</td>\n",
       "      <td>1.000000</td>\n",
       "      <td>91000.000000</td>\n",
       "    </tr>\n",
       "    <tr>\n",
       "      <th>50%</th>\n",
       "      <td>2.000000</td>\n",
       "      <td>1.000000</td>\n",
       "      <td>21.000000</td>\n",
       "      <td>16.000000</td>\n",
       "      <td>1.000000</td>\n",
       "      <td>107300.000000</td>\n",
       "    </tr>\n",
       "    <tr>\n",
       "      <th>75%</th>\n",
       "      <td>2.000000</td>\n",
       "      <td>1.000000</td>\n",
       "      <td>32.000000</td>\n",
       "      <td>27.000000</td>\n",
       "      <td>1.000000</td>\n",
       "      <td>134185.000000</td>\n",
       "    </tr>\n",
       "    <tr>\n",
       "      <th>max</th>\n",
       "      <td>2.000000</td>\n",
       "      <td>1.000000</td>\n",
       "      <td>56.000000</td>\n",
       "      <td>60.000000</td>\n",
       "      <td>1.000000</td>\n",
       "      <td>231545.000000</td>\n",
       "    </tr>\n",
       "  </tbody>\n",
       "</table>\n",
       "</div>"
      ],
      "text/plain": [
       "             rank  discipline  yrs.since.phd  yrs.service         sex  \\\n",
       "count  397.000000  397.000000     397.000000   397.000000  397.000000   \n",
       "mean     1.501259    0.544081      22.314861    17.614610    0.901763   \n",
       "std      0.767472    0.498682      12.887003    13.006024    0.298010   \n",
       "min      0.000000    0.000000       1.000000     0.000000    0.000000   \n",
       "25%      1.000000    0.000000      12.000000     7.000000    1.000000   \n",
       "50%      2.000000    1.000000      21.000000    16.000000    1.000000   \n",
       "75%      2.000000    1.000000      32.000000    27.000000    1.000000   \n",
       "max      2.000000    1.000000      56.000000    60.000000    1.000000   \n",
       "\n",
       "              salary  \n",
       "count     397.000000  \n",
       "mean   113706.458438  \n",
       "std     30289.038695  \n",
       "min     57800.000000  \n",
       "25%     91000.000000  \n",
       "50%    107300.000000  \n",
       "75%    134185.000000  \n",
       "max    231545.000000  "
      ]
     },
     "execution_count": 38,
     "metadata": {},
     "output_type": "execute_result"
    }
   ],
   "source": [
    "df.describe()"
   ]
  },
  {
   "cell_type": "code",
   "execution_count": 39,
   "id": "df64b08b",
   "metadata": {},
   "outputs": [
    {
     "data": {
      "text/plain": [
       "rank             float64\n",
       "discipline         int32\n",
       "yrs.since.phd      int64\n",
       "yrs.service        int64\n",
       "sex                int32\n",
       "salary             int64\n",
       "dtype: object"
      ]
     },
     "execution_count": 39,
     "metadata": {},
     "output_type": "execute_result"
    }
   ],
   "source": [
    "df.dtypes"
   ]
  },
  {
   "cell_type": "markdown",
   "id": "4beb5918",
   "metadata": {},
   "source": [
    "# plotting the heatmap for describe()"
   ]
  },
  {
   "cell_type": "code",
   "execution_count": 40,
   "id": "edf42edf",
   "metadata": {},
   "outputs": [
    {
     "data": {
      "text/plain": [
       "<AxesSubplot:>"
      ]
     },
     "execution_count": 40,
     "metadata": {},
     "output_type": "execute_result"
    },
    {
     "data": {
      "image/png": "[encoded data removed]",
      "text/plain": [
       "<Figure size 864x432 with 2 Axes>"
      ]
     },
     "metadata": {
      "needs_background": "light"
     },
     "output_type": "display_data"
    }
   ],
   "source": [
    "plt.figure(figsize=(12,6))\n",
    "sns.heatmap(df.describe(),annot=True,linewidths=0.1,linecolor='black',fmt=\"0.2f\")"
   ]
  },
  {
   "cell_type": "markdown",
   "id": "db9bfd15",
   "metadata": {},
   "source": [
    "# Correlation of the columns with the target columns:"
   ]
  },
  {
   "cell_type": "code",
   "execution_count": 41,
   "id": "097775cd",
   "metadata": {},
   "outputs": [
    {
     "data": {
      "text/plain": [
       "sex              0.138610\n",
       "discipline       0.156084\n",
       "yrs.service      0.334745\n",
       "yrs.since.phd    0.419231\n",
       "rank             0.617224\n",
       "salary           1.000000\n",
       "Name: salary, dtype: float64"
      ]
     },
     "execution_count": 41,
     "metadata": {},
     "output_type": "execute_result"
    }
   ],
   "source": [
    "df.corr()['salary'].sort_values()"
   ]
  },
  {
   "cell_type": "code",
   "execution_count": 42,
   "id": "605254b6",
   "metadata": {},
   "outputs": [
    {
     "data": {
      "text/plain": [
       "<AxesSubplot:>"
      ]
     },
     "execution_count": 42,
     "metadata": {},
     "output_type": "execute_result"
    },
    {
     "data": {
      "image/png": "[encoded data removed]",
      "text/plain": [
       "<Figure size 864x432 with 2 Axes>"
      ]
     },
     "metadata": {
      "needs_background": "light"
     },
     "output_type": "display_data"
    }
   ],
   "source": [
    "df_corr=df.corr()\n",
    "\n",
    "plt.figure(figsize=(12,6))\n",
    "sns.heatmap(df_corr,annot=True,annot_kws={'size':12})"
   ]
  },
  {
   "cell_type": "markdown",
   "id": "e07f0681",
   "metadata": {},
   "source": [
    "# checking the columns which are positively and negatively correlated with the target columns:"
   ]
  },
  {
   "cell_type": "code",
   "execution_count": 43,
   "id": "312ba5c9",
   "metadata": {},
   "outputs": [
    {
     "data": {
      "image/png": "[encoded data removed]",
      "text/plain": [
       "<Figure size 864x432 with 1 Axes>"
      ]
     },
     "metadata": {
      "needs_background": "light"
     },
     "output_type": "display_data"
    }
   ],
   "source": [
    "plt.figure(figsize=(12,6))\n",
    "df.corr()['salary'].sort_values(ascending=False).drop(['salary']).plot(kind='bar',color='c')\n",
    "plt.xlabel('Feature',fontsize=20)\n",
    "plt.ylabel('column with target names',fontsize=20)\n",
    "plt.title('corrrelation',fontsize=12)\n",
    "plt.show()"
   ]
  },
  {
   "cell_type": "markdown",
   "id": "a0a09ec2",
   "metadata": {},
   "source": [
    "here , we can see that (yr.since.phd) and (yr.service) are highly correlated with each other having correlation 0.91. But we need some more proof for the multicollinearity. So , we are going to check the variance inflation factor"
   ]
  },
  {
   "cell_type": "code",
   "execution_count": 44,
   "id": "fb4a3ea7",
   "metadata": {},
   "outputs": [],
   "source": [
    "from statsmodels.stats.outliers_influence import variance_inflation_factor"
   ]
  },
  {
   "cell_type": "code",
   "execution_count": 45,
   "id": "db3198c6",
   "metadata": {},
   "outputs": [],
   "source": [
    "x=df.drop(columns=['salary'])\n",
    "y=df['salary']"
   ]
  },
  {
   "cell_type": "code",
   "execution_count": 46,
   "id": "d7d2e9f6",
   "metadata": {},
   "outputs": [],
   "source": [
    "scaler=StandardScaler()\n",
    "x_scaled=scaler.fit_transform(x)"
   ]
  },
  {
   "cell_type": "code",
   "execution_count": 47,
   "id": "7434a584",
   "metadata": {},
   "outputs": [
    {
     "data": {
      "text/plain": [
       "5"
      ]
     },
     "execution_count": 47,
     "metadata": {},
     "output_type": "execute_result"
    }
   ],
   "source": [
    "x_scaled.shape[1]"
   ]
  },
  {
   "cell_type": "code",
   "execution_count": 48,
   "id": "db5a8fe9",
   "metadata": {},
   "outputs": [
    {
     "data": {
      "text/html": [
       "<div>\n",
       "<style scoped>\n",
       "    .dataframe tbody tr th:only-of-type {\n",
       "        vertical-align: middle;\n",
       "    }\n",
       "\n",
       "    .dataframe tbody tr th {\n",
       "        vertical-align: top;\n",
       "    }\n",
       "\n",
       "    .dataframe thead th {\n",
       "        text-align: right;\n",
       "    }\n",
       "</style>\n",
       "<table border=\"1\" class=\"dataframe\">\n",
       "  <thead>\n",
       "    <tr style=\"text-align: right;\">\n",
       "      <th></th>\n",
       "      <th>vif</th>\n",
       "      <th>features</th>\n",
       "    </tr>\n",
       "  </thead>\n",
       "  <tbody>\n",
       "    <tr>\n",
       "      <th>0</th>\n",
       "      <td>2.001482</td>\n",
       "      <td>rank</td>\n",
       "    </tr>\n",
       "    <tr>\n",
       "      <th>1</th>\n",
       "      <td>1.064100</td>\n",
       "      <td>discipline</td>\n",
       "    </tr>\n",
       "    <tr>\n",
       "      <th>2</th>\n",
       "      <td>7.496102</td>\n",
       "      <td>yrs.since.phd</td>\n",
       "    </tr>\n",
       "    <tr>\n",
       "      <th>3</th>\n",
       "      <td>5.914237</td>\n",
       "      <td>yrs.service</td>\n",
       "    </tr>\n",
       "    <tr>\n",
       "      <th>4</th>\n",
       "      <td>1.028545</td>\n",
       "      <td>sex</td>\n",
       "    </tr>\n",
       "  </tbody>\n",
       "</table>\n",
       "</div>"
      ],
      "text/plain": [
       "        vif       features\n",
       "0  2.001482           rank\n",
       "1  1.064100     discipline\n",
       "2  7.496102  yrs.since.phd\n",
       "3  5.914237    yrs.service\n",
       "4  1.028545            sex"
      ]
     },
     "execution_count": 48,
     "metadata": {},
     "output_type": "execute_result"
    }
   ],
   "source": [
    "vif=pd.DataFrame()\n",
    "vif[\"vif\"]=[variance_inflation_factor(x_scaled,i) for i in range(x_scaled.shape[1])]\n",
    "\n",
    "vif['features']=x.columns\n",
    "\n",
    "vif"
   ]
  },
  {
   "cell_type": "markdown",
   "id": "9f770003",
   "metadata": {},
   "source": [
    "here , is the another proof of multicollinearity problem exists. since the yr.since.phd and yr.service having more than 5 value. so , we can delete one column which is having less correlation with respect to salary variable."
   ]
  },
  {
   "cell_type": "markdown",
   "id": "21981ded",
   "metadata": {},
   "source": [
    "since, yr.service having less relation of 0.33 in comparison to yr.since.phd which is having correlation of 0.42. so, we are going to remove yr.service"
   ]
  },
  {
   "cell_type": "markdown",
   "id": "45dc650b",
   "metadata": {},
   "source": [
    "# checking for the skewness"
   ]
  },
  {
   "cell_type": "code",
   "execution_count": 75,
   "id": "97557317",
   "metadata": {},
   "outputs": [
    {
     "data": {
      "text/plain": [
       "rank            -1.132759\n",
       "discipline      -0.177684\n",
       "yrs.since.phd    0.300880\n",
       "yrs.service      0.650569\n",
       "sex             -2.709958\n",
       "salary           0.714568\n",
       "dtype: float64"
      ]
     },
     "execution_count": 75,
     "metadata": {},
     "output_type": "execute_result"
    }
   ],
   "source": [
    "df.skew()"
   ]
  },
  {
   "cell_type": "code",
   "execution_count": 49,
   "id": "4e8b7846",
   "metadata": {},
   "outputs": [
    {
     "data": {
      "text/plain": [
       "rank             float64\n",
       "discipline         int32\n",
       "yrs.since.phd      int64\n",
       "yrs.service        int64\n",
       "sex                int32\n",
       "salary             int64\n",
       "dtype: object"
      ]
     },
     "execution_count": 49,
     "metadata": {},
     "output_type": "execute_result"
    }
   ],
   "source": [
    "df.dtypes"
   ]
  },
  {
   "cell_type": "markdown",
   "id": "9ccd383e",
   "metadata": {},
   "source": [
    "# checking for the outliers in the feature column"
   ]
  },
  {
   "cell_type": "code",
   "execution_count": 50,
   "id": "061a12df",
   "metadata": {},
   "outputs": [],
   "source": [
    "df_feature=df.drop('salary',axis=1)"
   ]
  },
  {
   "cell_type": "code",
   "execution_count": 52,
   "id": "777729f6",
   "metadata": {},
   "outputs": [
    {
     "data": {
      "image/png": "[encoded data removed]",
      "text/plain": [
       "<Figure size 1080x720 with 5 Axes>"
      ]
     },
     "metadata": {
      "needs_background": "light"
     },
     "output_type": "display_data"
    }
   ],
   "source": [
    "plt.figure(figsize=(15,10))\n",
    "plotnumber=1\n",
    "\n",
    "for column in df_feature:\n",
    "    if plotnumber<=6:\n",
    "        plt.subplot(2,3,plotnumber)\n",
    "        ax=sns.boxplot(data=df_feature[column])\n",
    "        plt.xlabel(column,fontsize=15)\n",
    "        \n",
    "        plotnumber+=1\n",
    "plt.show()"
   ]
  },
  {
   "cell_type": "code",
   "execution_count": 54,
   "id": "7e68628c",
   "metadata": {},
   "outputs": [],
   "source": [
    "from sklearn.metrics import r2_score"
   ]
  },
  {
   "cell_type": "code",
   "execution_count": 58,
   "id": "87f86472",
   "metadata": {},
   "outputs": [],
   "source": [
    "x_new=df.drop(columns=['yrs.service','salary'])\n",
    "y=df['salary']"
   ]
  },
  {
   "cell_type": "code",
   "execution_count": 60,
   "id": "2eaaef01",
   "metadata": {},
   "outputs": [],
   "source": [
    "scaled=StandardScaler()\n",
    "x_new_scaled=scaled.fit_transform(x_new)"
   ]
  },
  {
   "cell_type": "code",
   "execution_count": 70,
   "id": "c058e4f5",
   "metadata": {},
   "outputs": [
    {
     "name": "stdout",
     "output_type": "stream",
     "text": [
      "at random state0 , the training accuracy is:-0.41936080586664204\n",
      "at random state0 , the testing accuracy is:-0.4834772918081318\n",
      "at random state1 , the training accuracy is:-0.42009988795262065\n",
      "at random state1 , the testing accuracy is:-0.4912146851571878\n",
      "at random state2 , the training accuracy is:-0.43891022070140917\n",
      "at random state2 , the testing accuracy is:-0.40624398305327725\n",
      "at random state3 , the training accuracy is:-0.4580750631002859\n",
      "at random state3 , the testing accuracy is:-0.34247481921694944\n",
      "at random state4 , the training accuracy is:-0.4477686492775367\n",
      "at random state4 , the testing accuracy is:-0.3606439924161826\n",
      "at random state5 , the training accuracy is:-0.44840528570097626\n",
      "at random state5 , the testing accuracy is:-0.3642703873947777\n",
      "at random state6 , the training accuracy is:-0.42027207979204473\n",
      "at random state6 , the testing accuracy is:-0.495997938785082\n",
      "at random state7 , the training accuracy is:-0.4199016285530227\n",
      "at random state7 , the testing accuracy is:-0.488839095077392\n",
      "at random state8 , the training accuracy is:-0.43285233417865576\n",
      "at random state8 , the testing accuracy is:-0.40952406012810183\n",
      "at random state9 , the training accuracy is:-0.43542873654909164\n",
      "at random state9 , the testing accuracy is:-0.42261015212583597\n",
      "at random state10 , the training accuracy is:-0.4275735063277962\n",
      "at random state10 , the testing accuracy is:-0.45245854887729764\n",
      "at random state11 , the training accuracy is:-0.46330149271486565\n",
      "at random state11 , the testing accuracy is:-0.28800301472492407\n",
      "at random state12 , the training accuracy is:-0.4282792742546011\n",
      "at random state12 , the testing accuracy is:-0.4594319772227413\n",
      "at random state13 , the training accuracy is:-0.4318332023349394\n",
      "at random state13 , the testing accuracy is:-0.4112348925501108\n",
      "at random state14 , the training accuracy is:-0.471723690989321\n",
      "at random state14 , the testing accuracy is:-0.24202907552387165\n",
      "at random state15 , the training accuracy is:-0.4369014764001208\n",
      "at random state15 , the testing accuracy is:-0.41434429653426175\n",
      "at random state16 , the training accuracy is:-0.4417913361982341\n",
      "at random state16 , the testing accuracy is:-0.3890728686889362\n",
      "at random state17 , the training accuracy is:-0.4333670955159913\n",
      "at random state17 , the testing accuracy is:-0.4197680879581792\n",
      "at random state18 , the training accuracy is:-0.43085971148191204\n",
      "at random state18 , the testing accuracy is:-0.43005408386060395\n",
      "at random state19 , the training accuracy is:-0.4103317206601783\n",
      "at random state19 , the testing accuracy is:-0.5257105971728261\n",
      "at random state20 , the training accuracy is:-0.4126151424671166\n",
      "at random state20 , the testing accuracy is:-0.5061321388049351\n",
      "at random state21 , the training accuracy is:-0.447013826708593\n",
      "at random state21 , the testing accuracy is:-0.37462510109274916\n",
      "at random state22 , the training accuracy is:-0.4322379100294961\n",
      "at random state22 , the testing accuracy is:-0.4345879138926164\n",
      "at random state23 , the training accuracy is:-0.45215261289069264\n",
      "at random state23 , the testing accuracy is:-0.3571941257073604\n",
      "at random state24 , the training accuracy is:-0.4589416016455914\n",
      "at random state24 , the testing accuracy is:-0.31603809487750634\n",
      "at random state25 , the training accuracy is:-0.43965000834728585\n",
      "at random state25 , the testing accuracy is:-0.39977920274233136\n",
      "at random state26 , the training accuracy is:-0.4329051986905762\n",
      "at random state26 , the testing accuracy is:-0.429848547823346\n",
      "at random state27 , the training accuracy is:-0.4434299893811209\n",
      "at random state27 , the testing accuracy is:-0.39092031895529833\n",
      "at random state28 , the training accuracy is:-0.46127797475361343\n",
      "at random state28 , the testing accuracy is:-0.31141957269391174\n",
      "at random state29 , the training accuracy is:-0.45540681807464556\n",
      "at random state29 , the testing accuracy is:-0.3113763605311356\n",
      "at random state30 , the training accuracy is:-0.4310645798989692\n",
      "at random state30 , the testing accuracy is:-0.43498741723982703\n",
      "at random state31 , the training accuracy is:-0.44348971883887545\n",
      "at random state31 , the testing accuracy is:-0.3813853697699111\n",
      "at random state32 , the training accuracy is:-0.42936366640106083\n",
      "at random state32 , the testing accuracy is:-0.43463557599632474\n",
      "at random state33 , the training accuracy is:-0.4324530797500227\n",
      "at random state33 , the testing accuracy is:-0.436083710897736\n",
      "at random state34 , the training accuracy is:-0.41971736762074696\n",
      "at random state34 , the testing accuracy is:-0.48607501174961343\n",
      "at random state35 , the training accuracy is:-0.43626683153350965\n",
      "at random state35 , the testing accuracy is:-0.4179325195315343\n",
      "at random state36 , the training accuracy is:-0.4552481362757389\n",
      "at random state36 , the testing accuracy is:-0.26467190618243763\n",
      "at random state37 , the training accuracy is:-0.42292057633124125\n",
      "at random state37 , the testing accuracy is:-0.4341359956965485\n",
      "at random state38 , the training accuracy is:-0.44477792376609515\n",
      "at random state38 , the testing accuracy is:-0.3584071177731558\n",
      "at random state39 , the training accuracy is:-0.42216783272470115\n",
      "at random state39 , the testing accuracy is:-0.47150214513839506\n",
      "at random state40 , the training accuracy is:-0.4288602270247118\n",
      "at random state40 , the testing accuracy is:-0.44249948423385743\n",
      "at random state41 , the training accuracy is:-0.4159020313303845\n",
      "at random state41 , the testing accuracy is:-0.4965798593948625\n",
      "at random state42 , the training accuracy is:-0.4741093125620779\n",
      "at random state42 , the testing accuracy is:-0.2123527494507007\n",
      "at random state43 , the training accuracy is:-0.4627350652020752\n",
      "at random state43 , the testing accuracy is:-0.3285464806386369\n",
      "at random state44 , the training accuracy is:-0.4349770817135642\n",
      "at random state44 , the testing accuracy is:-0.4197291427730834\n",
      "at random state45 , the training accuracy is:-0.4643256024123963\n",
      "at random state45 , the testing accuracy is:-0.32600891663019915\n",
      "at random state46 , the training accuracy is:-0.43303739306551536\n",
      "at random state46 , the testing accuracy is:-0.3817465891465739\n",
      "at random state47 , the training accuracy is:-0.43574460373472723\n",
      "at random state47 , the testing accuracy is:-0.40792241155548614\n",
      "at random state48 , the training accuracy is:-0.42599936027112184\n",
      "at random state48 , the testing accuracy is:-0.45558030027324115\n",
      "at random state49 , the training accuracy is:-0.4596208851244985\n",
      "at random state49 , the testing accuracy is:-0.3088950722405386\n",
      "at random state50 , the training accuracy is:-0.4398818457699245\n",
      "at random state50 , the testing accuracy is:-0.40577472542873716\n",
      "at random state51 , the training accuracy is:-0.4346065286634133\n",
      "at random state51 , the testing accuracy is:-0.417513194317612\n",
      "at random state52 , the training accuracy is:-0.43180725216320026\n",
      "at random state52 , the testing accuracy is:-0.4291754926785919\n",
      "at random state53 , the training accuracy is:-0.40800658308056725\n",
      "at random state53 , the testing accuracy is:-0.5437539957694036\n",
      "at random state54 , the training accuracy is:-0.444205069944545\n",
      "at random state54 , the testing accuracy is:-0.38116149852469106\n",
      "at random state55 , the training accuracy is:-0.44602649283322504\n",
      "at random state55 , the testing accuracy is:-0.37990028448696955\n",
      "at random state56 , the training accuracy is:-0.4402813354145403\n",
      "at random state56 , the testing accuracy is:-0.372402718244051\n",
      "at random state57 , the training accuracy is:-0.4293372527619451\n",
      "at random state57 , the testing accuracy is:-0.445579752980534\n",
      "at random state58 , the training accuracy is:-0.4516669209816039\n",
      "at random state58 , the testing accuracy is:-0.3607577676093958\n",
      "at random state59 , the training accuracy is:-0.42492459866960386\n",
      "at random state59 , the testing accuracy is:-0.44816343206152554\n",
      "at random state60 , the training accuracy is:-0.4166780931420513\n",
      "at random state60 , the testing accuracy is:-0.5377367699439985\n",
      "at random state61 , the training accuracy is:-0.4054878991819084\n",
      "at random state61 , the testing accuracy is:-0.5577208799768343\n",
      "at random state62 , the training accuracy is:-0.4595975149690573\n",
      "at random state62 , the testing accuracy is:-0.3176695066594768\n",
      "at random state63 , the training accuracy is:-0.4174091446072691\n",
      "at random state63 , the testing accuracy is:-0.48294261080500067\n",
      "at random state64 , the training accuracy is:-0.4281593871274568\n",
      "at random state64 , the testing accuracy is:-0.4284345620200172\n",
      "at random state65 , the training accuracy is:-0.45794091038734785\n",
      "at random state65 , the testing accuracy is:-0.33994767484954846\n",
      "at random state66 , the training accuracy is:-0.4171170748608716\n",
      "at random state66 , the testing accuracy is:-0.48845301530668084\n",
      "at random state67 , the training accuracy is:-0.4270719591908395\n",
      "at random state67 , the testing accuracy is:-0.4384087527020787\n",
      "at random state68 , the training accuracy is:-0.4725985410303116\n",
      "at random state68 , the testing accuracy is:-0.268059723144064\n",
      "at random state69 , the training accuracy is:-0.4094293960024358\n",
      "at random state69 , the testing accuracy is:-0.5124597626612568\n",
      "at random state70 , the training accuracy is:-0.4507458218302741\n",
      "at random state70 , the testing accuracy is:-0.2816159232937404\n",
      "at random state71 , the training accuracy is:-0.43928664920986926\n",
      "at random state71 , the testing accuracy is:-0.3971314879252431\n",
      "at random state72 , the training accuracy is:-0.4562696079559786\n",
      "at random state72 , the testing accuracy is:-0.34630291721411344\n",
      "at random state73 , the training accuracy is:-0.44426159352438443\n",
      "at random state73 , the testing accuracy is:-0.39025306365184165\n",
      "at random state74 , the training accuracy is:-0.42805511473917046\n",
      "at random state74 , the testing accuracy is:-0.45660233781993687\n",
      "at random state75 , the training accuracy is:-0.4260581454474115\n",
      "at random state75 , the testing accuracy is:-0.4542238143837618\n",
      "at random state76 , the training accuracy is:-0.444523784008209\n",
      "at random state76 , the testing accuracy is:-0.35188384899938807\n",
      "at random state77 , the training accuracy is:-0.4278992600317183\n",
      "at random state77 , the testing accuracy is:-0.4243472495241646\n",
      "at random state78 , the training accuracy is:-0.4520079447668476\n",
      "at random state78 , the testing accuracy is:-0.3558334451086388\n",
      "at random state79 , the training accuracy is:-0.4126580713300525\n",
      "at random state79 , the testing accuracy is:-0.5204214289078668\n",
      "at random state80 , the training accuracy is:-0.4134359958391173\n",
      "at random state80 , the testing accuracy is:-0.5483533934229377\n",
      "at random state81 , the training accuracy is:-0.42471586719864995\n",
      "at random state81 , the testing accuracy is:-0.44750743367406487\n",
      "at random state82 , the training accuracy is:-0.4321285965393785\n",
      "at random state82 , the testing accuracy is:-0.4335202050692607\n",
      "at random state83 , the training accuracy is:-0.4238876358154552\n",
      "at random state83 , the testing accuracy is:-0.46666383645726284\n",
      "at random state84 , the training accuracy is:-0.4207723931591534\n",
      "at random state84 , the testing accuracy is:-0.4669480405946209\n",
      "at random state85 , the training accuracy is:-0.43282487986575235\n",
      "at random state85 , the testing accuracy is:-0.4302829499088011\n",
      "at random state86 , the training accuracy is:-0.4311109383873082\n",
      "at random state86 , the testing accuracy is:-0.44129212947120655\n",
      "at random state87 , the training accuracy is:-0.43340117822911584\n",
      "at random state87 , the testing accuracy is:-0.3675232152594462\n",
      "at random state88 , the training accuracy is:-0.42379087664709336\n",
      "at random state88 , the testing accuracy is:-0.46894495127007507\n",
      "at random state89 , the training accuracy is:-0.43729991814672786\n",
      "at random state89 , the testing accuracy is:-0.41375120194797677\n",
      "at random state90 , the training accuracy is:-0.4208358074087708\n",
      "at random state90 , the testing accuracy is:-0.46843892224864814\n",
      "at random state91 , the training accuracy is:-0.4284146399237302\n",
      "at random state91 , the testing accuracy is:-0.436877138015456\n",
      "at random state92 , the training accuracy is:-0.43068370432974723\n",
      "at random state92 , the testing accuracy is:-0.4361135320670966\n",
      "at random state93 , the training accuracy is:-0.45325877814210125\n",
      "at random state93 , the testing accuracy is:-0.341278504205366\n",
      "at random state94 , the training accuracy is:-0.4458757805464383\n",
      "at random state94 , the testing accuracy is:-0.37442504261167675\n",
      "at random state95 , the training accuracy is:-0.4481517528926692\n",
      "at random state95 , the testing accuracy is:-0.36020900750378615\n",
      "at random state96 , the training accuracy is:-0.4193170424972643\n",
      "at random state96 , the testing accuracy is:-0.47597546486300657\n",
      "at random state97 , the training accuracy is:-0.4198031894881751\n",
      "at random state97 , the testing accuracy is:-0.5002205368604544\n",
      "at random state98 , the training accuracy is:-0.4224756363820672\n",
      "at random state98 , the testing accuracy is:-0.4567318447759211\n",
      "at random state99 , the training accuracy is:-0.42023562796841596\n",
      "at random state99 , the testing accuracy is:-0.4935376283391001\n"
     ]
    }
   ],
   "source": [
    "for i in range(0,100):\n",
    "    x_train,x_test,y_train,y_test=train_test_split(x_new_scaled,y,test_size=0.2,random_state=i)\n",
    "    lr=LinearRegression()\n",
    "    lr.fit(x_train,y_train)\n",
    "    pred_train=lr.predict(x_train)\n",
    "    pred_test=lr.predict(x_test)\n",
    "    print(f\"at random state{i} , the training accuracy is:-{r2_score(y_train,pred_train)}\")\n",
    "    print(f\"at random state{i} , the testing accuracy is:-{r2_score(y_test,pred_test)}\")"
   ]
  },
  {
   "cell_type": "code",
   "execution_count": 71,
   "id": "c2482c46",
   "metadata": {},
   "outputs": [],
   "source": [
    "x_train,x_test,y_train,y_test=train_test_split(x_new_scaled,y,test_size=0.2,random_state=61)"
   ]
  },
  {
   "cell_type": "code",
   "execution_count": 72,
   "id": "74ba0e99",
   "metadata": {},
   "outputs": [
    {
     "data": {
      "text/plain": [
       "LinearRegression()"
      ]
     },
     "execution_count": 72,
     "metadata": {},
     "output_type": "execute_result"
    }
   ],
   "source": [
    "lr.fit(x_train,y_train)"
   ]
  },
  {
   "cell_type": "code",
   "execution_count": 73,
   "id": "9a766af6",
   "metadata": {},
   "outputs": [],
   "source": [
    "pred_test=lr.predict(x_test)"
   ]
  },
  {
   "cell_type": "code",
   "execution_count": 77,
   "id": "f193574b",
   "metadata": {},
   "outputs": [
    {
     "name": "stdout",
     "output_type": "stream",
     "text": [
      "0.5577208799768343\n"
     ]
    }
   ],
   "source": [
    "print(r2_score(y_test,pred_test))"
   ]
  },
  {
   "cell_type": "code",
   "execution_count": 78,
   "id": "154aaa04",
   "metadata": {},
   "outputs": [
    {
     "data": {
      "image/png": "[encoded data removed]",
      "text/plain": [
       "<Figure size 576x432 with 1 Axes>"
      ]
     },
     "metadata": {
      "needs_background": "light"
     },
     "output_type": "display_data"
    }
   ],
   "source": [
    "plt.figure(figsize=(8,6))\n",
    "plt.scatter(x=y_test,y=pred_test,color='r')\n",
    "plt.plot(y_test,y_test,color='b')\n",
    "plt.xlabel(\"Actual changes\",fontsize=10)\n",
    "plt.ylabel(\"Predicted changes\",fontsize=10)\n",
    "plt.title(\"Linear Regression\",fontsize=20)\n",
    "plt.savefig(\"lr.png\")\n",
    "plt.show()"
   ]
  },
  {
   "cell_type": "markdown",
   "id": "7f340b9a",
   "metadata": {},
   "source": [
    "best fit line is covering most of the data points which shows good fit of our model"
   ]
  },
  {
   "cell_type": "code",
   "execution_count": 91,
   "id": "7c2fcc93",
   "metadata": {},
   "outputs": [],
   "source": [
    "from sklearn.linear_model import Lasso"
   ]
  },
  {
   "cell_type": "code",
   "execution_count": 92,
   "id": "72c75aa5",
   "metadata": {},
   "outputs": [],
   "source": [
    "parameters={'alpha':[0.0001,0.001,0.01,0.1,1,10],\n",
    "           'random_state':list(range(0,10))}"
   ]
  },
  {
   "cell_type": "code",
   "execution_count": 94,
   "id": "9a6e1dcc",
   "metadata": {},
   "outputs": [
    {
     "data": {
      "text/plain": [
       "GridSearchCV(estimator=Lasso(),\n",
       "             param_grid={'alpha': [0.0001, 0.001, 0.01, 0.1, 1, 10],\n",
       "                         'random_state': [0, 1, 2, 3, 4, 5, 6, 7, 8, 9]})"
      ]
     },
     "execution_count": 94,
     "metadata": {},
     "output_type": "execute_result"
    }
   ],
   "source": [
    "from sklearn.model_selection import GridSearchCV\n",
    "ls=Lasso()\n",
    "\n",
    "lf=GridSearchCV(ls,parameters)\n",
    "lf.fit(x_train,y_train)"
   ]
  },
  {
   "cell_type": "code",
   "execution_count": 95,
   "id": "4aa7ac59",
   "metadata": {},
   "outputs": [
    {
     "name": "stdout",
     "output_type": "stream",
     "text": [
      "{'alpha': 10, 'random_state': 0}\n"
     ]
    }
   ],
   "source": [
    "print(lf.best_params_)"
   ]
  },
  {
   "cell_type": "code",
   "execution_count": 96,
   "id": "b635846a",
   "metadata": {},
   "outputs": [],
   "source": [
    "ls=Lasso(alpha=10,random_state=0)\n",
    "ls.fit(x_train,y_train)\n",
    "ls_score_training=ls.score(x_train,y_train)\n",
    "pred_ls=ls.predict(x_test)"
   ]
  },
  {
   "cell_type": "code",
   "execution_count": 98,
   "id": "4c777b4d",
   "metadata": {},
   "outputs": [
    {
     "data": {
      "text/plain": [
       "40.54875631640227"
      ]
     },
     "execution_count": 98,
     "metadata": {},
     "output_type": "execute_result"
    }
   ],
   "source": [
    "ls_score_training*100"
   ]
  },
  {
   "cell_type": "code",
   "execution_count": 99,
   "id": "edd43575",
   "metadata": {},
   "outputs": [],
   "source": [
    "pred_ls=ls.predict(x_test)"
   ]
  },
  {
   "cell_type": "code",
   "execution_count": 100,
   "id": "70e6c787",
   "metadata": {},
   "outputs": [],
   "source": [
    "lss=r2_score(y_test,pred_ls)"
   ]
  },
  {
   "cell_type": "code",
   "execution_count": 101,
   "id": "caed45fe",
   "metadata": {},
   "outputs": [
    {
     "data": {
      "text/plain": [
       "55.767235178214555"
      ]
     },
     "execution_count": 101,
     "metadata": {},
     "output_type": "execute_result"
    }
   ],
   "source": [
    "lss*100"
   ]
  },
  {
   "cell_type": "markdown",
   "id": "61e88d6c",
   "metadata": {},
   "source": [
    "# Ensemble technique:"
   ]
  },
  {
   "cell_type": "code",
   "execution_count": 105,
   "id": "45f3a736",
   "metadata": {},
   "outputs": [],
   "source": [
    "from sklearn.ensemble import RandomForestRegressor\n",
    "from sklearn.model_selection import GridSearchCV"
   ]
  },
  {
   "cell_type": "code",
   "execution_count": 106,
   "id": "639a3f6b",
   "metadata": {},
   "outputs": [],
   "source": [
    "parameters={'criterion':['mse','mae'],\n",
    "           'max_features':['auto','sqrt','log2']}"
   ]
  },
  {
   "cell_type": "code",
   "execution_count": 107,
   "id": "2e862ab7",
   "metadata": {},
   "outputs": [
    {
     "data": {
      "text/plain": [
       "GridSearchCV(estimator=RandomForestRegressor(),\n",
       "             param_grid={'criterion': ['mse', 'mae'],\n",
       "                         'max_features': ['auto', 'sqrt', 'log2']})"
      ]
     },
     "execution_count": 107,
     "metadata": {},
     "output_type": "execute_result"
    }
   ],
   "source": [
    "rf=RandomForestRegressor()\n",
    "\n",
    "clf=GridSearchCV(rf,parameters)\n",
    "clf.fit(x_train,y_train)"
   ]
  },
  {
   "cell_type": "code",
   "execution_count": 108,
   "id": "17d8e4cd",
   "metadata": {},
   "outputs": [
    {
     "name": "stdout",
     "output_type": "stream",
     "text": [
      "{'criterion': 'mae', 'max_features': 'log2'}\n"
     ]
    }
   ],
   "source": [
    "print(clf.best_params_)"
   ]
  },
  {
   "cell_type": "code",
   "execution_count": 111,
   "id": "9c827259",
   "metadata": {},
   "outputs": [
    {
     "name": "stdout",
     "output_type": "stream",
     "text": [
      "r2 score: 51.892940929293694\n"
     ]
    }
   ],
   "source": [
    "rf=RandomForestRegressor(criterion=\"mae\",max_features=\"log2\")\n",
    "rf.fit(x_train,y_train)\n",
    "pred_decision=rf.predict(x_test)\n",
    "\n",
    "rfs=r2_score(y_test,pred_decision)\n",
    "print(\"r2 score:\",rfs*100)\n",
    "\n"
   ]
  },
  {
   "cell_type": "markdown",
   "id": "225c2ce5",
   "metadata": {},
   "source": [
    "# we'll go for the lasso model as it will give the best score 55.76%"
   ]
  },
  {
   "cell_type": "code",
   "execution_count": 112,
   "id": "7f075611",
   "metadata": {},
   "outputs": [],
   "source": [
    "import pickle\n",
    "filename='salary.pkl'\n",
    "pickle.dump(ls,open(filename,'wb'))"
   ]
  },
  {
   "cell_type": "markdown",
   "id": "b45ce8fe",
   "metadata": {},
   "source": [
    "# Conclusion:"
   ]
  },
  {
   "cell_type": "code",
   "execution_count": 113,
   "id": "ce7891c3",
   "metadata": {},
   "outputs": [
    {
     "name": "stdout",
     "output_type": "stream",
     "text": [
      "55.767235178214555\n"
     ]
    }
   ],
   "source": [
    "loaded_model=pickle.load(open('salary.pkl','rb'))\n",
    "result=loaded_model.score(x_test,y_test)\n",
    "print(result*100)"
   ]
  },
  {
   "cell_type": "code",
   "execution_count": 114,
   "id": "d43b8322",
   "metadata": {},
   "outputs": [],
   "source": [
    "conclusion=pd.DataFrame([loaded_model.predict(x_test)[:],pred_decision[:]],index=['Predicted','Original'])"
   ]
  },
  {
   "cell_type": "code",
   "execution_count": 115,
   "id": "95548d5f",
   "metadata": {},
   "outputs": [
    {
     "data": {
      "text/html": [
       "<div>\n",
       "<style scoped>\n",
       "    .dataframe tbody tr th:only-of-type {\n",
       "        vertical-align: middle;\n",
       "    }\n",
       "\n",
       "    .dataframe tbody tr th {\n",
       "        vertical-align: top;\n",
       "    }\n",
       "\n",
       "    .dataframe thead th {\n",
       "        text-align: right;\n",
       "    }\n",
       "</style>\n",
       "<table border=\"1\" class=\"dataframe\">\n",
       "  <thead>\n",
       "    <tr style=\"text-align: right;\">\n",
       "      <th></th>\n",
       "      <th>0</th>\n",
       "      <th>1</th>\n",
       "      <th>2</th>\n",
       "      <th>3</th>\n",
       "      <th>4</th>\n",
       "      <th>5</th>\n",
       "      <th>6</th>\n",
       "      <th>7</th>\n",
       "      <th>8</th>\n",
       "      <th>9</th>\n",
       "      <th>...</th>\n",
       "      <th>70</th>\n",
       "      <th>71</th>\n",
       "      <th>72</th>\n",
       "      <th>73</th>\n",
       "      <th>74</th>\n",
       "      <th>75</th>\n",
       "      <th>76</th>\n",
       "      <th>77</th>\n",
       "      <th>78</th>\n",
       "      <th>79</th>\n",
       "    </tr>\n",
       "  </thead>\n",
       "  <tbody>\n",
       "    <tr>\n",
       "      <th>Predicted</th>\n",
       "      <td>94982.430007</td>\n",
       "      <td>107005.590975</td>\n",
       "      <td>106945.62946</td>\n",
       "      <td>82119.346155</td>\n",
       "      <td>119748.751796</td>\n",
       "      <td>119538.886491</td>\n",
       "      <td>132161.662617</td>\n",
       "      <td>119658.809523</td>\n",
       "      <td>132191.643375</td>\n",
       "      <td>69496.570029</td>\n",
       "      <td>...</td>\n",
       "      <td>82089.365397</td>\n",
       "      <td>132221.624133</td>\n",
       "      <td>132131.681859</td>\n",
       "      <td>132161.662617</td>\n",
       "      <td>132491.450954</td>\n",
       "      <td>131741.932006</td>\n",
       "      <td>82029.403881</td>\n",
       "      <td>94532.718639</td>\n",
       "      <td>125930.48577</td>\n",
       "      <td>119868.674828</td>\n",
       "    </tr>\n",
       "    <tr>\n",
       "      <th>Original</th>\n",
       "      <td>83442.680000</td>\n",
       "      <td>108386.045000</td>\n",
       "      <td>99981.66000</td>\n",
       "      <td>85739.900000</td>\n",
       "      <td>123225.505000</td>\n",
       "      <td>111774.525000</td>\n",
       "      <td>168669.050000</td>\n",
       "      <td>120062.830000</td>\n",
       "      <td>140427.545000</td>\n",
       "      <td>74161.140000</td>\n",
       "      <td>...</td>\n",
       "      <td>86174.620000</td>\n",
       "      <td>122280.655000</td>\n",
       "      <td>148862.990000</td>\n",
       "      <td>168669.050000</td>\n",
       "      <td>132413.270000</td>\n",
       "      <td>114334.765000</td>\n",
       "      <td>90071.075000</td>\n",
       "      <td>84797.190000</td>\n",
       "      <td>141163.85500</td>\n",
       "      <td>123192.285000</td>\n",
       "    </tr>\n",
       "  </tbody>\n",
       "</table>\n",
       "<p>2 rows × 80 columns</p>\n",
       "</div>"
      ],
      "text/plain": [
       "                     0              1             2             3   \\\n",
       "Predicted  94982.430007  107005.590975  106945.62946  82119.346155   \n",
       "Original   83442.680000  108386.045000   99981.66000  85739.900000   \n",
       "\n",
       "                      4              5              6              7   \\\n",
       "Predicted  119748.751796  119538.886491  132161.662617  119658.809523   \n",
       "Original   123225.505000  111774.525000  168669.050000  120062.830000   \n",
       "\n",
       "                      8             9   ...            70             71  \\\n",
       "Predicted  132191.643375  69496.570029  ...  82089.365397  132221.624133   \n",
       "Original   140427.545000  74161.140000  ...  86174.620000  122280.655000   \n",
       "\n",
       "                      72             73             74             75  \\\n",
       "Predicted  132131.681859  132161.662617  132491.450954  131741.932006   \n",
       "Original   148862.990000  168669.050000  132413.270000  114334.765000   \n",
       "\n",
       "                     76            77            78             79  \n",
       "Predicted  82029.403881  94532.718639  125930.48577  119868.674828  \n",
       "Original   90071.075000  84797.190000  141163.85500  123192.285000  \n",
       "\n",
       "[2 rows x 80 columns]"
      ]
     },
     "execution_count": 115,
     "metadata": {},
     "output_type": "execute_result"
    }
   ],
   "source": [
    "conclusion"
   ]
  },
  {
   "cell_type": "code",
   "execution_count": null,
   "id": "8582b146",
   "metadata": {},
   "outputs": [],
   "source": []
  }
 ],
 "metadata": {
  "kernelspec": {
   "display_name": "Python 3 (ipykernel)",
   "language": "python",
   "name": "python3"
  },
  "language_info": {
   "codemirror_mode": {
    "name": "ipython",
    "version": 3
   },
   "file_extension": ".py",
   "mimetype": "text/x-python",
   "name": "python",
   "nbconvert_exporter": "python",
   "pygments_lexer": "ipython3",
   "version": "3.9.7"
  }
 },
 "nbformat": 4,
 "nbformat_minor": 5
}
